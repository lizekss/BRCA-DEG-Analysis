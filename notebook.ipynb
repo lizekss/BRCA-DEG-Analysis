{
 "cells": [
  {
   "cell_type": "markdown",
   "metadata": {
    "slideshow": {
     "slide_type": "slide"
    }
   },
   "source": [
    "Dataset: https://tcga-xena-hub.s3.us-east-1.amazonaws.com/download/TCGA.BRCA.sampleMap%2FHiSeqV2.gz"
   ]
  },
  {
   "cell_type": "markdown",
   "metadata": {
    "slideshow": {
     "slide_type": "slide"
    }
   },
   "source": [
    "## Data wrangling"
   ]
  },
  {
   "cell_type": "code",
   "execution_count": 2,
   "metadata": {
    "scrolled": true,
    "slideshow": {
     "slide_type": "subslide"
    }
   },
   "outputs": [],
   "source": [
    "import pandas as pd\n",
    "import os\n",
    "import numpy as np\n",
    "import matplotlib.pyplot as plt\n",
    " \n",
    "%matplotlib inline"
   ]
  },
  {
   "cell_type": "code",
   "execution_count": 11,
   "metadata": {
    "slideshow": {
     "slide_type": "subslide"
    }
   },
   "outputs": [],
   "source": [
    "filename = 'TCGA.BRCA.sampleMap_HiSeqV2' \n",
    "data = pd.read_csv(filename, sep=\"\\t\")"
   ]
  },
  {
   "cell_type": "code",
   "execution_count": 13,
   "metadata": {
    "slideshow": {
     "slide_type": "subslide"
    }
   },
   "outputs": [],
   "source": [
    "data = data.set_index('sample')"
   ]
  },
  {
   "cell_type": "code",
   "execution_count": 12,
   "metadata": {
    "slideshow": {
     "slide_type": "slide"
    }
   },
   "outputs": [
    {
     "data": {
      "text/html": [
       "<div>\n",
       "<style scoped>\n",
       "    .dataframe tbody tr th:only-of-type {\n",
       "        vertical-align: middle;\n",
       "    }\n",
       "\n",
       "    .dataframe tbody tr th {\n",
       "        vertical-align: top;\n",
       "    }\n",
       "\n",
       "    .dataframe thead th {\n",
       "        text-align: right;\n",
       "    }\n",
       "</style>\n",
       "<table border=\"1\" class=\"dataframe\">\n",
       "  <thead>\n",
       "    <tr style=\"text-align: right;\">\n",
       "      <th></th>\n",
       "      <th>sample</th>\n",
       "      <th>TCGA-AR-A5QQ-01</th>\n",
       "      <th>TCGA-D8-A1JA-01</th>\n",
       "      <th>TCGA-BH-A0BQ-01</th>\n",
       "      <th>TCGA-BH-A0BT-01</th>\n",
       "      <th>TCGA-A8-A06X-01</th>\n",
       "      <th>TCGA-A8-A096-01</th>\n",
       "      <th>TCGA-BH-A0C7-01</th>\n",
       "      <th>TCGA-AC-A5XU-01</th>\n",
       "      <th>TCGA-PE-A5DE-01</th>\n",
       "      <th>...</th>\n",
       "      <th>TCGA-A7-A13E-11</th>\n",
       "      <th>TCGA-C8-A8HP-01</th>\n",
       "      <th>TCGA-E9-A5FL-01</th>\n",
       "      <th>TCGA-AC-A2FB-11</th>\n",
       "      <th>TCGA-E2-A15F-01</th>\n",
       "      <th>TCGA-A2-A3XT-01</th>\n",
       "      <th>TCGA-B6-A0X7-01</th>\n",
       "      <th>TCGA-BH-A1EV-11</th>\n",
       "      <th>TCGA-3C-AALJ-01</th>\n",
       "      <th>TCGA-B6-A0X1-01</th>\n",
       "    </tr>\n",
       "  </thead>\n",
       "  <tbody>\n",
       "    <tr>\n",
       "      <th>0</th>\n",
       "      <td>ARHGEF10L</td>\n",
       "      <td>9.5074</td>\n",
       "      <td>7.4346</td>\n",
       "      <td>9.3216</td>\n",
       "      <td>9.0198</td>\n",
       "      <td>9.6417</td>\n",
       "      <td>9.7665</td>\n",
       "      <td>10.0931</td>\n",
       "      <td>9.1524</td>\n",
       "      <td>9.9398</td>\n",
       "      <td>...</td>\n",
       "      <td>9.6265</td>\n",
       "      <td>10.1826</td>\n",
       "      <td>9.9199</td>\n",
       "      <td>9.9090</td>\n",
       "      <td>10.0334</td>\n",
       "      <td>11.5144</td>\n",
       "      <td>10.5745</td>\n",
       "      <td>9.4048</td>\n",
       "      <td>10.9468</td>\n",
       "      <td>10.3164</td>\n",
       "    </tr>\n",
       "    <tr>\n",
       "      <th>1</th>\n",
       "      <td>HIF3A</td>\n",
       "      <td>1.5787</td>\n",
       "      <td>3.6607</td>\n",
       "      <td>2.7224</td>\n",
       "      <td>1.3414</td>\n",
       "      <td>0.5819</td>\n",
       "      <td>0.2738</td>\n",
       "      <td>3.6090</td>\n",
       "      <td>0.4738</td>\n",
       "      <td>2.9378</td>\n",
       "      <td>...</td>\n",
       "      <td>8.1546</td>\n",
       "      <td>2.2159</td>\n",
       "      <td>3.8645</td>\n",
       "      <td>8.1872</td>\n",
       "      <td>0.8836</td>\n",
       "      <td>1.3169</td>\n",
       "      <td>4.0696</td>\n",
       "      <td>7.2537</td>\n",
       "      <td>0.9310</td>\n",
       "      <td>2.4191</td>\n",
       "    </tr>\n",
       "    <tr>\n",
       "      <th>2</th>\n",
       "      <td>RNF17</td>\n",
       "      <td>0.0000</td>\n",
       "      <td>0.6245</td>\n",
       "      <td>0.5526</td>\n",
       "      <td>0.0000</td>\n",
       "      <td>0.0000</td>\n",
       "      <td>0.8765</td>\n",
       "      <td>0.0000</td>\n",
       "      <td>0.0000</td>\n",
       "      <td>0.0000</td>\n",
       "      <td>...</td>\n",
       "      <td>0.0000</td>\n",
       "      <td>0.0000</td>\n",
       "      <td>3.7305</td>\n",
       "      <td>0.0000</td>\n",
       "      <td>0.0000</td>\n",
       "      <td>1.1329</td>\n",
       "      <td>0.4258</td>\n",
       "      <td>0.0000</td>\n",
       "      <td>0.0000</td>\n",
       "      <td>0.0000</td>\n",
       "    </tr>\n",
       "    <tr>\n",
       "      <th>3</th>\n",
       "      <td>RNF10</td>\n",
       "      <td>11.3676</td>\n",
       "      <td>11.9181</td>\n",
       "      <td>11.9665</td>\n",
       "      <td>13.1881</td>\n",
       "      <td>12.0036</td>\n",
       "      <td>11.8118</td>\n",
       "      <td>11.3820</td>\n",
       "      <td>11.5004</td>\n",
       "      <td>12.2055</td>\n",
       "      <td>...</td>\n",
       "      <td>11.9869</td>\n",
       "      <td>12.2653</td>\n",
       "      <td>12.4815</td>\n",
       "      <td>11.8263</td>\n",
       "      <td>12.0135</td>\n",
       "      <td>11.5818</td>\n",
       "      <td>11.8663</td>\n",
       "      <td>11.5460</td>\n",
       "      <td>12.2616</td>\n",
       "      <td>12.1570</td>\n",
       "    </tr>\n",
       "    <tr>\n",
       "      <th>4</th>\n",
       "      <td>RNF11</td>\n",
       "      <td>11.1292</td>\n",
       "      <td>13.5273</td>\n",
       "      <td>11.4105</td>\n",
       "      <td>11.0911</td>\n",
       "      <td>11.2545</td>\n",
       "      <td>10.8554</td>\n",
       "      <td>10.7663</td>\n",
       "      <td>10.4358</td>\n",
       "      <td>11.2210</td>\n",
       "      <td>...</td>\n",
       "      <td>11.9344</td>\n",
       "      <td>11.4117</td>\n",
       "      <td>10.4902</td>\n",
       "      <td>11.5754</td>\n",
       "      <td>10.8370</td>\n",
       "      <td>10.2736</td>\n",
       "      <td>10.7644</td>\n",
       "      <td>11.8774</td>\n",
       "      <td>10.7842</td>\n",
       "      <td>11.2420</td>\n",
       "    </tr>\n",
       "  </tbody>\n",
       "</table>\n",
       "<p>5 rows × 1219 columns</p>\n",
       "</div>"
      ],
      "text/plain": [
       "      sample  TCGA-AR-A5QQ-01  TCGA-D8-A1JA-01  TCGA-BH-A0BQ-01  \\\n",
       "0  ARHGEF10L           9.5074           7.4346           9.3216   \n",
       "1      HIF3A           1.5787           3.6607           2.7224   \n",
       "2      RNF17           0.0000           0.6245           0.5526   \n",
       "3      RNF10          11.3676          11.9181          11.9665   \n",
       "4      RNF11          11.1292          13.5273          11.4105   \n",
       "\n",
       "   TCGA-BH-A0BT-01  TCGA-A8-A06X-01  TCGA-A8-A096-01  TCGA-BH-A0C7-01  \\\n",
       "0           9.0198           9.6417           9.7665          10.0931   \n",
       "1           1.3414           0.5819           0.2738           3.6090   \n",
       "2           0.0000           0.0000           0.8765           0.0000   \n",
       "3          13.1881          12.0036          11.8118          11.3820   \n",
       "4          11.0911          11.2545          10.8554          10.7663   \n",
       "\n",
       "   TCGA-AC-A5XU-01  TCGA-PE-A5DE-01  ...  TCGA-A7-A13E-11  TCGA-C8-A8HP-01  \\\n",
       "0           9.1524           9.9398  ...           9.6265          10.1826   \n",
       "1           0.4738           2.9378  ...           8.1546           2.2159   \n",
       "2           0.0000           0.0000  ...           0.0000           0.0000   \n",
       "3          11.5004          12.2055  ...          11.9869          12.2653   \n",
       "4          10.4358          11.2210  ...          11.9344          11.4117   \n",
       "\n",
       "   TCGA-E9-A5FL-01  TCGA-AC-A2FB-11  TCGA-E2-A15F-01  TCGA-A2-A3XT-01  \\\n",
       "0           9.9199           9.9090          10.0334          11.5144   \n",
       "1           3.8645           8.1872           0.8836           1.3169   \n",
       "2           3.7305           0.0000           0.0000           1.1329   \n",
       "3          12.4815          11.8263          12.0135          11.5818   \n",
       "4          10.4902          11.5754          10.8370          10.2736   \n",
       "\n",
       "   TCGA-B6-A0X7-01  TCGA-BH-A1EV-11  TCGA-3C-AALJ-01  TCGA-B6-A0X1-01  \n",
       "0          10.5745           9.4048          10.9468          10.3164  \n",
       "1           4.0696           7.2537           0.9310           2.4191  \n",
       "2           0.4258           0.0000           0.0000           0.0000  \n",
       "3          11.8663          11.5460          12.2616          12.1570  \n",
       "4          10.7644          11.8774          10.7842          11.2420  \n",
       "\n",
       "[5 rows x 1219 columns]"
      ]
     },
     "execution_count": 12,
     "metadata": {},
     "output_type": "execute_result"
    }
   ],
   "source": [
    "data.head() "
   ]
  },
  {
   "cell_type": "markdown",
   "metadata": {
    "slideshow": {
     "slide_type": "slide"
    }
   },
   "source": [
    "### Drop rows with zero values"
   ]
  },
  {
   "cell_type": "code",
   "execution_count": 14,
   "metadata": {
    "slideshow": {
     "slide_type": "subslide"
    }
   },
   "outputs": [
    {
     "data": {
      "text/plain": [
       "(12657, 1218)"
      ]
     },
     "execution_count": 14,
     "metadata": {},
     "output_type": "execute_result"
    }
   ],
   "source": [
    "df_replace = data.replace(0.0000, np.nan)\n",
    "df_dropped = df_replace.dropna(axis=0, how='any')\n",
    "df_dropped.shape"
   ]
  },
  {
   "cell_type": "markdown",
   "metadata": {
    "slideshow": {
     "slide_type": "slide"
    }
   },
   "source": [
    "### Split data into two dataframes:\n",
    "# TODO need to change to reflect actual data"
   ]
  },
  {
   "cell_type": "code",
   "execution_count": 15,
   "metadata": {
    "slideshow": {
     "slide_type": "subslide"
    }
   },
   "outputs": [],
   "source": [
    "df1 = df_dropped.filter(regex = 'sample|11$', axis =1)\n",
    "# Creating new dataframe with only columns containing expression values for normal cells"
   ]
  },
  {
   "cell_type": "code",
   "execution_count": 16,
   "metadata": {
    "slideshow": {
     "slide_type": "subslide"
    }
   },
   "outputs": [
    {
     "data": {
      "text/plain": [
       "(12657, 114)"
      ]
     },
     "execution_count": 16,
     "metadata": {},
     "output_type": "execute_result"
    }
   ],
   "source": [
    "df1.shape"
   ]
  },
  {
   "cell_type": "code",
   "execution_count": 17,
   "metadata": {
    "slideshow": {
     "slide_type": "subslide"
    }
   },
   "outputs": [
    {
     "data": {
      "text/html": [
       "<div>\n",
       "<style scoped>\n",
       "    .dataframe tbody tr th:only-of-type {\n",
       "        vertical-align: middle;\n",
       "    }\n",
       "\n",
       "    .dataframe tbody tr th {\n",
       "        vertical-align: top;\n",
       "    }\n",
       "\n",
       "    .dataframe thead th {\n",
       "        text-align: right;\n",
       "    }\n",
       "</style>\n",
       "<table border=\"1\" class=\"dataframe\">\n",
       "  <thead>\n",
       "    <tr style=\"text-align: right;\">\n",
       "      <th></th>\n",
       "      <th>TCGA-A7-A0CH-11</th>\n",
       "      <th>TCGA-E9-A1RC-11</th>\n",
       "      <th>TCGA-A7-A0DB-11</th>\n",
       "      <th>TCGA-BH-A0H9-11</th>\n",
       "      <th>TCGA-BH-A0E0-11</th>\n",
       "      <th>TCGA-BH-A0HA-11</th>\n",
       "      <th>TCGA-BH-A18P-11</th>\n",
       "      <th>TCGA-E9-A1N4-11</th>\n",
       "      <th>TCGA-BH-A18U-11</th>\n",
       "      <th>TCGA-E2-A1LS-11</th>\n",
       "      <th>...</th>\n",
       "      <th>TCGA-BH-A0DT-11</th>\n",
       "      <th>TCGA-BH-A0DD-11</th>\n",
       "      <th>TCGA-BH-A0B2-11</th>\n",
       "      <th>TCGA-BH-A18K-11</th>\n",
       "      <th>TCGA-E2-A1IG-11</th>\n",
       "      <th>TCGA-BH-A0B5-11</th>\n",
       "      <th>TCGA-E9-A1NF-11</th>\n",
       "      <th>TCGA-A7-A13E-11</th>\n",
       "      <th>TCGA-AC-A2FB-11</th>\n",
       "      <th>TCGA-BH-A1EV-11</th>\n",
       "    </tr>\n",
       "    <tr>\n",
       "      <th>sample</th>\n",
       "      <th></th>\n",
       "      <th></th>\n",
       "      <th></th>\n",
       "      <th></th>\n",
       "      <th></th>\n",
       "      <th></th>\n",
       "      <th></th>\n",
       "      <th></th>\n",
       "      <th></th>\n",
       "      <th></th>\n",
       "      <th></th>\n",
       "      <th></th>\n",
       "      <th></th>\n",
       "      <th></th>\n",
       "      <th></th>\n",
       "      <th></th>\n",
       "      <th></th>\n",
       "      <th></th>\n",
       "      <th></th>\n",
       "      <th></th>\n",
       "      <th></th>\n",
       "    </tr>\n",
       "  </thead>\n",
       "  <tbody>\n",
       "    <tr>\n",
       "      <th>ARHGEF10L</th>\n",
       "      <td>10.0819</td>\n",
       "      <td>9.5920</td>\n",
       "      <td>9.9530</td>\n",
       "      <td>9.4255</td>\n",
       "      <td>9.5039</td>\n",
       "      <td>10.6813</td>\n",
       "      <td>9.4890</td>\n",
       "      <td>10.4934</td>\n",
       "      <td>10.1442</td>\n",
       "      <td>9.1657</td>\n",
       "      <td>...</td>\n",
       "      <td>9.8437</td>\n",
       "      <td>9.8269</td>\n",
       "      <td>10.1560</td>\n",
       "      <td>9.9853</td>\n",
       "      <td>10.0335</td>\n",
       "      <td>9.3597</td>\n",
       "      <td>10.4037</td>\n",
       "      <td>9.6265</td>\n",
       "      <td>9.9090</td>\n",
       "      <td>9.4048</td>\n",
       "    </tr>\n",
       "    <tr>\n",
       "      <th>RNF10</th>\n",
       "      <td>11.9788</td>\n",
       "      <td>12.0187</td>\n",
       "      <td>11.8456</td>\n",
       "      <td>11.9455</td>\n",
       "      <td>11.7797</td>\n",
       "      <td>11.5149</td>\n",
       "      <td>11.7608</td>\n",
       "      <td>11.6013</td>\n",
       "      <td>11.6033</td>\n",
       "      <td>11.9784</td>\n",
       "      <td>...</td>\n",
       "      <td>11.7101</td>\n",
       "      <td>11.9506</td>\n",
       "      <td>11.7253</td>\n",
       "      <td>11.7267</td>\n",
       "      <td>11.8407</td>\n",
       "      <td>12.1359</td>\n",
       "      <td>11.8686</td>\n",
       "      <td>11.9869</td>\n",
       "      <td>11.8263</td>\n",
       "      <td>11.5460</td>\n",
       "    </tr>\n",
       "    <tr>\n",
       "      <th>RNF11</th>\n",
       "      <td>11.5315</td>\n",
       "      <td>12.2147</td>\n",
       "      <td>11.5743</td>\n",
       "      <td>12.1199</td>\n",
       "      <td>10.9773</td>\n",
       "      <td>11.1492</td>\n",
       "      <td>12.0529</td>\n",
       "      <td>11.1338</td>\n",
       "      <td>11.5355</td>\n",
       "      <td>12.2425</td>\n",
       "      <td>...</td>\n",
       "      <td>11.5680</td>\n",
       "      <td>11.9201</td>\n",
       "      <td>11.4971</td>\n",
       "      <td>11.5110</td>\n",
       "      <td>11.7084</td>\n",
       "      <td>12.3855</td>\n",
       "      <td>11.8553</td>\n",
       "      <td>11.9344</td>\n",
       "      <td>11.5754</td>\n",
       "      <td>11.8774</td>\n",
       "    </tr>\n",
       "    <tr>\n",
       "      <th>RNF13</th>\n",
       "      <td>10.5527</td>\n",
       "      <td>11.0042</td>\n",
       "      <td>11.0165</td>\n",
       "      <td>10.5990</td>\n",
       "      <td>10.2501</td>\n",
       "      <td>10.8266</td>\n",
       "      <td>10.9653</td>\n",
       "      <td>11.0282</td>\n",
       "      <td>10.8097</td>\n",
       "      <td>10.9901</td>\n",
       "      <td>...</td>\n",
       "      <td>10.8299</td>\n",
       "      <td>10.6770</td>\n",
       "      <td>10.2482</td>\n",
       "      <td>10.6006</td>\n",
       "      <td>10.6719</td>\n",
       "      <td>10.8269</td>\n",
       "      <td>11.2244</td>\n",
       "      <td>10.9178</td>\n",
       "      <td>11.0725</td>\n",
       "      <td>11.1226</td>\n",
       "    </tr>\n",
       "    <tr>\n",
       "      <th>GTF2IP1</th>\n",
       "      <td>12.3518</td>\n",
       "      <td>12.4805</td>\n",
       "      <td>12.3628</td>\n",
       "      <td>12.2354</td>\n",
       "      <td>12.5141</td>\n",
       "      <td>12.7275</td>\n",
       "      <td>12.2369</td>\n",
       "      <td>12.5722</td>\n",
       "      <td>12.2129</td>\n",
       "      <td>12.3422</td>\n",
       "      <td>...</td>\n",
       "      <td>12.5003</td>\n",
       "      <td>12.7311</td>\n",
       "      <td>12.4451</td>\n",
       "      <td>12.5103</td>\n",
       "      <td>11.9762</td>\n",
       "      <td>12.6041</td>\n",
       "      <td>12.3790</td>\n",
       "      <td>12.7623</td>\n",
       "      <td>12.6265</td>\n",
       "      <td>12.7776</td>\n",
       "    </tr>\n",
       "  </tbody>\n",
       "</table>\n",
       "<p>5 rows × 114 columns</p>\n",
       "</div>"
      ],
      "text/plain": [
       "           TCGA-A7-A0CH-11  TCGA-E9-A1RC-11  TCGA-A7-A0DB-11  TCGA-BH-A0H9-11  \\\n",
       "sample                                                                          \n",
       "ARHGEF10L          10.0819           9.5920           9.9530           9.4255   \n",
       "RNF10              11.9788          12.0187          11.8456          11.9455   \n",
       "RNF11              11.5315          12.2147          11.5743          12.1199   \n",
       "RNF13              10.5527          11.0042          11.0165          10.5990   \n",
       "GTF2IP1            12.3518          12.4805          12.3628          12.2354   \n",
       "\n",
       "           TCGA-BH-A0E0-11  TCGA-BH-A0HA-11  TCGA-BH-A18P-11  TCGA-E9-A1N4-11  \\\n",
       "sample                                                                          \n",
       "ARHGEF10L           9.5039          10.6813           9.4890          10.4934   \n",
       "RNF10              11.7797          11.5149          11.7608          11.6013   \n",
       "RNF11              10.9773          11.1492          12.0529          11.1338   \n",
       "RNF13              10.2501          10.8266          10.9653          11.0282   \n",
       "GTF2IP1            12.5141          12.7275          12.2369          12.5722   \n",
       "\n",
       "           TCGA-BH-A18U-11  TCGA-E2-A1LS-11  ...  TCGA-BH-A0DT-11  \\\n",
       "sample                                       ...                    \n",
       "ARHGEF10L          10.1442           9.1657  ...           9.8437   \n",
       "RNF10              11.6033          11.9784  ...          11.7101   \n",
       "RNF11              11.5355          12.2425  ...          11.5680   \n",
       "RNF13              10.8097          10.9901  ...          10.8299   \n",
       "GTF2IP1            12.2129          12.3422  ...          12.5003   \n",
       "\n",
       "           TCGA-BH-A0DD-11  TCGA-BH-A0B2-11  TCGA-BH-A18K-11  TCGA-E2-A1IG-11  \\\n",
       "sample                                                                          \n",
       "ARHGEF10L           9.8269          10.1560           9.9853          10.0335   \n",
       "RNF10              11.9506          11.7253          11.7267          11.8407   \n",
       "RNF11              11.9201          11.4971          11.5110          11.7084   \n",
       "RNF13              10.6770          10.2482          10.6006          10.6719   \n",
       "GTF2IP1            12.7311          12.4451          12.5103          11.9762   \n",
       "\n",
       "           TCGA-BH-A0B5-11  TCGA-E9-A1NF-11  TCGA-A7-A13E-11  TCGA-AC-A2FB-11  \\\n",
       "sample                                                                          \n",
       "ARHGEF10L           9.3597          10.4037           9.6265           9.9090   \n",
       "RNF10              12.1359          11.8686          11.9869          11.8263   \n",
       "RNF11              12.3855          11.8553          11.9344          11.5754   \n",
       "RNF13              10.8269          11.2244          10.9178          11.0725   \n",
       "GTF2IP1            12.6041          12.3790          12.7623          12.6265   \n",
       "\n",
       "           TCGA-BH-A1EV-11  \n",
       "sample                      \n",
       "ARHGEF10L           9.4048  \n",
       "RNF10              11.5460  \n",
       "RNF11              11.8774  \n",
       "RNF13              11.1226  \n",
       "GTF2IP1            12.7776  \n",
       "\n",
       "[5 rows x 114 columns]"
      ]
     },
     "execution_count": 17,
     "metadata": {},
     "output_type": "execute_result"
    }
   ],
   "source": [
    "df1.head()"
   ]
  },
  {
   "cell_type": "code",
   "execution_count": 18,
   "metadata": {
    "slideshow": {
     "slide_type": "subslide"
    }
   },
   "outputs": [],
   "source": [
    "df2 = df_dropped.filter(regex = 'sample|01|05$', axis = 1)\n",
    "# Creating new dataframe with only columns containing expression values for cancer cells"
   ]
  },
  {
   "cell_type": "code",
   "execution_count": 19,
   "metadata": {
    "slideshow": {
     "slide_type": "subslide"
    }
   },
   "outputs": [
    {
     "data": {
      "text/plain": [
       "(12657, 1097)"
      ]
     },
     "execution_count": 19,
     "metadata": {},
     "output_type": "execute_result"
    }
   ],
   "source": [
    "df2.shape"
   ]
  },
  {
   "cell_type": "markdown",
   "metadata": {
    "slideshow": {
     "slide_type": "slide"
    }
   },
   "source": [
    "# Exploratory data analysis"
   ]
  },
  {
   "cell_type": "markdown",
   "metadata": {
    "slideshow": {
     "slide_type": "subslide"
    }
   },
   "source": [
    "#### KDE plots of processed data separated by sample type (cancer/normal)"
   ]
  },
  {
   "cell_type": "code",
   "execution_count": 20,
   "metadata": {
    "slideshow": {
     "slide_type": "subslide"
    }
   },
   "outputs": [
    {
     "data": {
      "text/plain": [
       "<Axes: ylabel='Density'>"
      ]
     },
     "execution_count": 20,
     "metadata": {},
     "output_type": "execute_result"
    },
    {
     "data": {
      "image/png": "[encoded data removed]",
      "text/plain": [
       "<Figure size 640x480 with 1 Axes>"
      ]
     },
     "metadata": {},
     "output_type": "display_data"
    }
   ],
   "source": [
    "df1.plot(kind='kde', legend=False) # normal cells"
   ]
  },
  {
   "cell_type": "code",
   "execution_count": 21,
   "metadata": {
    "slideshow": {
     "slide_type": "subslide"
    }
   },
   "outputs": [
    {
     "data": {
      "text/plain": [
       "<Axes: ylabel='Density'>"
      ]
     },
     "execution_count": 21,
     "metadata": {},
     "output_type": "execute_result"
    },
    {
     "data": {
      "image/png": "[encoded data removed]",
      "text/plain": [
       "<Figure size 640x480 with 1 Axes>"
      ]
     },
     "metadata": {},
     "output_type": "display_data"
    }
   ],
   "source": [
    "df2.plot(kind='kde', legend=False) # cancer cells"
   ]
  }
 ],
 "metadata": {
  "kernelspec": {
   "display_name": "Python 3",
   "language": "python",
   "name": "python3"
  },
  "language_info": {
   "codemirror_mode": {
    "name": "ipython",
    "version": 3
   },
   "file_extension": ".py",
   "mimetype": "text/x-python",
   "name": "python",
   "nbconvert_exporter": "python",
   "pygments_lexer": "ipython3",
   "version": "3.12.4"
  }
 },
 "nbformat": 4,
 "nbformat_minor": 2
}
